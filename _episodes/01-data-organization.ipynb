{
 "cells": [
  {
   "cell_type": "markdown",
   "metadata": {},
   "source": [
    "# Data organization"
   ]
  },
  {
   "cell_type": "markdown",
   "metadata": {},
   "source": [
    "## Authors\n",
    "\n",
    "Ciera Martinez and Jasmine Nirody"
   ]
  },
  {
   "cell_type": "markdown",
   "metadata": {},
   "source": [
    "## Overview\n",
    "\n",
    "- Teaching: 15-20 min\n",
    "- Exercises: 10-15 min\n",
    "\n",
    "### Questions\n",
    "\n",
    "- What are different strategies for organizing a project directory?\n",
    "\n",
    "### Objectives\n",
    "\n",
    "- Understand what general features are important for a well-organized and clearly structured project directory, both for your collaborators and for future-you.\n"
   ]
  },
  {
   "cell_type": "markdown",
   "metadata": {},
   "source": [
    "## Exercises\n",
    "\n",
    "Pair up with someone next to you, spend 5-10 minutes looking at the provided case study for an example project folder.\n",
    "\n",
    "[](figs/organization_case_study.png)\n",
    "\n",
    "- What features help you understand what the project is about?\n",
    "- What features could be useful for creating a reproducible pipeline?\n",
    "- What features help you understand the relationship of the individual files to each other?\n",
    "- What features do you find most useful to help organize your projects?\n",
    "\n",
    "After discussing with your partner, share one or two of the most salient points with the room."
   ]
  },
  {
   "cell_type": "markdown",
   "metadata": {},
   "source": [
    "## Lesson\n",
    "\n",
    "See Slides."
   ]
  },
  {
   "cell_type": "markdown",
   "metadata": {},
   "source": [
    "## Key Points\n",
    "\n",
    "- Organize files so that they make intuitive sense and follow the narrative of the data analysis.\n",
    "- Populate folders with README files that describe the project and gives context for the analyses.\n",
    "- Raw data remains raw and should never be modified\n",
    "- Keep a clear record of every modification that has been made. Ideally, this is in the form of a script that can automatically generate cleaned data from the raw data."
   ]
  }
 ],
 "metadata": {
  "kernelspec": {
   "display_name": "Python 2",
   "language": "python",
   "name": "python2"
  },
  "language_info": {
   "codemirror_mode": {
    "name": "ipython",
    "version": 2
   },
   "file_extension": ".py",
   "mimetype": "text/x-python",
   "name": "python",
   "nbconvert_exporter": "python",
   "pygments_lexer": "ipython2",
   "version": "2.7.14"
  }
 },
 "nbformat": 4,
 "nbformat_minor": 2
}
