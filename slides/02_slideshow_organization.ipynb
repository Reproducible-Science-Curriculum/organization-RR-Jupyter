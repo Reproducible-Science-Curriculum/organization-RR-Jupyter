{
 "cells": [
  {
   "cell_type": "markdown",
   "metadata": {
    "slideshow": {
     "slide_type": "slide"
    }
   },
   "source": [
    "## Project Structure\n",
    "\n",
    "Here are some characteristics of files that you should pay attention to\n",
    "\n",
    "1. File history\n",
    "2. File function\n",
    "3. File format\n",
    "4. File origin\n",
    "\n",
    "**Key Point**: Organize files so that they make intuitive sense and follow the narrative of the data analysis."
   ]
  },
  {
   "cell_type": "markdown",
   "metadata": {
    "slideshow": {
     "slide_type": "slide"
    }
   },
   "source": [
    "## File Structure\n",
    "\n",
    "![Pic of folder structure](img/figures_for_slides-01.png)"
   ]
  },
  {
   "cell_type": "markdown",
   "metadata": {
    "slideshow": {
     "slide_type": "slide"
    }
   },
   "source": [
    "## `code` directory \n",
    "\n",
    "- A common strategy of organization is to seperate code in it's own directory.\n",
    "- Common synomous names for this directory:\n",
    "    - `scripts`\n",
    "    - seperate by script type:\n",
    "        - `r`\n",
    "        - `py`  \n",
    "        - `sh`"
   ]
  },
  {
   "cell_type": "markdown",
   "metadata": {
    "slideshow": {
     "slide_type": "slide"
    }
   },
   "source": [
    "## `README` files\n",
    "\n",
    "- let users know important information about project \n",
    "- are the starting point for anyone looking at project\n",
    "- should be in plain text format (either .txt or .md)\n",
    "\n",
    "### Useful `README` File Content\n",
    "\n",
    "1. Project name\n",
    "2. Today's date (update as project is updated)\n",
    "3. Maintainer's contact info\n",
    "4. Data Origin\n",
    "5. 3-4 sentences about the goal of the project\n",
    "6. Dependencies / How to Install / Project Structure / Style Guide"
   ]
  },
  {
   "cell_type": "markdown",
   "metadata": {
    "slideshow": {
     "slide_type": "slide"
    }
   },
   "source": [
    "## `data` directory \n",
    "\n",
    "- The `data` directory is where all your data is kept, therefore incredibly important to think through structure.\n",
    "- Every `data` directory is unique and appropriate structure can vary wildly between individuals, projects and points in time.\n",
    "- One universal important concept with this directory is to identify which data files \n",
    "    - are original (raw)\n",
    "    - modified\n",
    "        - outputs from scripts\n",
    "        - programatically and manually edited "
   ]
  },
  {
   "cell_type": "markdown",
   "metadata": {
    "slideshow": {
     "slide_type": "slide"
    }
   },
   "source": [
    "## Identify Output Files\n",
    "\n",
    "**Output Files**: Files that are generated from other files. \n",
    "\n",
    "**Key Points**\n",
    "\n",
    "- output files should be clearly identifiable from your project structure or naming.\n",
    "- keep raw (input) files raw and never edit original copies.\n",
    "- keep a clear record of every modification that has been made to files. Ideally, this is in the form of a script that can automatically generate cleaned data from the raw data."
   ]
  },
  {
   "cell_type": "markdown",
   "metadata": {
    "slideshow": {
     "slide_type": "slide"
    }
   },
   "source": [
    "## Identify Output Files\n",
    "\n",
    "Know that all files in these output folders can be repopulated easily.\n",
    "\n",
    "![Pic of folder structure](img/figures_for_slides-02.png)"
   ]
  },
  {
   "cell_type": "markdown",
   "metadata": {
    "slideshow": {
     "slide_type": "slide"
    }
   },
   "source": [
    "## Helpful Naming Conventions\n",
    "\n",
    "Using file naming to convey order.\n",
    "\n",
    "\n",
    "![Pic of folder structure](img/figures_for_slides-06.png)"
   ]
  },
  {
   "cell_type": "markdown",
   "metadata": {
    "slideshow": {
     "slide_type": "slide"
    }
   },
   "source": [
    "## Helpful Naming Conventions\n",
    "\n",
    "Using file naming to convey history.\n",
    "\n",
    "![Pic of folder structure](img/figures_for_slides-07.png)"
   ]
  },
  {
   "cell_type": "markdown",
   "metadata": {
    "slideshow": {
     "slide_type": "slide"
    }
   },
   "source": [
    "## Conclusions\n",
    "\n",
    "- Every project is different, requiring different organization strategies. \n",
    "    - Talk with collegues on how they organize their projects\n",
    "    - Browse Github Repositories for ideas\n",
    "\n",
    "- Your project structure will evolve throughout the projects lifetime. \n",
    "\n",
    "- Organize your project that makes sense for collaborators and most importantly - future you. "
   ]
  }
 ],
 "metadata": {
  "celltoolbar": "Slideshow",
  "kernelspec": {
   "display_name": "Python 3",
   "language": "python",
   "name": "python3"
  },
  "language_info": {
   "codemirror_mode": {
    "name": "ipython",
    "version": 3
   },
   "file_extension": ".py",
   "mimetype": "text/x-python",
   "name": "python",
   "nbconvert_exporter": "python",
   "pygments_lexer": "ipython3",
   "version": "3.6.0"
  }
 },
 "nbformat": 4,
 "nbformat_minor": 0
}
