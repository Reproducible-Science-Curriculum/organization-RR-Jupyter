{
 "cells": [
  {
   "cell_type": "markdown",
   "metadata": {},
   "source": [
    "# Data Organization"
   ]
  },
  {
   "cell_type": "markdown",
   "metadata": {},
   "source": [
    "## Authors\n",
    "\n",
    "Ciera Martinez and Jasmine Nirody"
   ]
  },
  {
   "cell_type": "markdown",
   "metadata": {},
   "source": [
    "## Overview\n",
    "\n",
    "- Exercise: 10-15 min\n",
    "- Teaching: 15-20 min\n",
    "\n",
    "### Questions\n",
    "\n",
    "- What are different strategies for organizing a project directory?\n",
    "- What are some useful file naming strategies?\n",
    "- Why should we use README files?\n",
    "- What type of information goes into a README file?\n",
    "- How do you document modifications that have been made?\n",
    "- How do build up a project that can be understood by yourself or others in the future?\n",
    "\n",
    "### Objectives\n",
    "\n",
    "- Understand what general features are important for a well-organized and clearly structured project directory, both for your collaborators and for future-you.\n",
    "- Evaluate a project for reproducibility.\n",
    "- How can you organize a project so it makes sense to your future self?\n",
    "- Recognize the difference between raw and modified data\n",
    "- Associate file history with directory structure and explain why it is important to make apparent in project\n",
    "- Describe the purpose of including README files with your project.\n"
   ]
  },
  {
   "cell_type": "markdown",
   "metadata": {},
   "source": [
    "## Exercises\n",
    "\n",
    "Pair up with someone next to you, spend 5-10 minutes looking at the provided example project folder and answer these questions:\n",
    "\n",
    "- What features help you understand what the project is about?\n",
    "- What features are useful for creating a reproducible pipeline?\n",
    "- What features help you understand the relationship of the individual files to each other?\n",
    "- What features do you find most useful to help organize your projects?\n",
    "\n",
    "After discussing with your partner, share one or two of the most salient points with the room.\n",
    "\n",
    "![files](../fig/organization_case_study.png)\n"
   ]
  },
  {
   "cell_type": "markdown",
   "metadata": {},
   "source": [
    "## Lesson\n",
    "\n",
    "See Slides."
   ]
  },
  {
   "cell_type": "markdown",
   "metadata": {},
   "source": [
    "## Key Points\n",
    "\n",
    "- Organize files so that they make intuitive sense and follow the narrative of the data analysis.\n",
    "- Populate folders with README files that describe the project and gives context for the analyses.\n",
    "- Raw data remains raw and should never be modified\n",
    "- Keep a clear record of every modification that has been made. Ideally, this is in the form of a script that can automatically generate cleaned data from the raw data."
   ]
  }
 ],
 "metadata": {
  "kernelspec": {
   "display_name": "Python 2",
   "language": "python",
   "name": "python2"
  },
  "language_info": {
   "codemirror_mode": {
    "name": "ipython",
    "version": 2
   },
   "file_extension": ".py",
   "mimetype": "text/x-python",
   "name": "python",
   "nbconvert_exporter": "python",
   "pygments_lexer": "ipython2",
   "version": "2.7.13"
  }
 },
 "nbformat": 4,
 "nbformat_minor": 2
}
